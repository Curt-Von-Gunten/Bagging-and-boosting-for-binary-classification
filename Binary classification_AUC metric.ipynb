{
 "cells": [
  {
   "cell_type": "code",
   "execution_count": 13,
   "metadata": {},
   "outputs": [],
   "source": [
    "#Notebook stuff\n",
    "from IPython.core.interactiveshell import InteractiveShell\n",
    "InteractiveShell.ast_node_interactivity = \"all\"\n",
    "%matplotlib inline\n",
    "\n",
    "#Standard libraries\n",
    "import numpy as np\n",
    "import pandas as pd\n",
    "import matplotlib.pyplot as plt\n",
    "\n",
    "#Preprocessing\n",
    "from sklearn.preprocessing import StandardScaler, MinMaxScaler, QuantileTransformer\n",
    "from sklearn.decomposition import PCA\n",
    "from sklearn.base import BaseEstimator, TransformerMixin\n",
    "\n",
    "#Model evaluation, selection, metrics, and saving.\n",
    "from sklearn.model_selection import train_test_split, cross_val_score, GridSearchCV, RandomizedSearchCV\n",
    "from sklearn.pipeline import Pipeline, make_pipeline, FeatureUnion\n",
    "from sklearn.metrics import roc_auc_score, roc_curve, auc\n",
    "from sklearn.externals import joblib\n",
    "\n",
    "#schikit models\n",
    "from sklearn.naive_bayes import GaussianNB\n",
    "from sklearn.neighbors import KNeighborsClassifier\n",
    "from sklearn.linear_model import LogisticRegression, Perceptron, Ridge, Lasso, SGDClassifier\n",
    "from sklearn.svm import SVC, LinearSVC\n",
    "from sklearn.tree import DecisionTreeClassifier\n",
    "from sklearn.ensemble import RandomForestClassifier, GradientBoostingClassifier, AdaBoostClassifier\n",
    "import xgboost as xgb\n",
    "import lightgbm as lgb"
   ]
  },
  {
   "cell_type": "code",
   "execution_count": 2,
   "metadata": {},
   "outputs": [
    {
     "name": "stdout",
     "output_type": "stream",
     "text": [
      "Wall time: 11.5 s\n"
     ]
    }
   ],
   "source": [
    "%%time\n",
    "train = pd.read_csv('train.csv')"
   ]
  },
  {
   "cell_type": "code",
   "execution_count": 3,
   "metadata": {},
   "outputs": [],
   "source": [
    "#Save a copy.\n",
    "train_copy = train.copy()"
   ]
  },
  {
   "cell_type": "code",
   "execution_count": 4,
   "metadata": {},
   "outputs": [
    {
     "data": {
      "text/plain": [
       "(200000, 202)"
      ]
     },
     "execution_count": 4,
     "metadata": {},
     "output_type": "execute_result"
    }
   ],
   "source": [
    "train.shape\n",
    "#train.head()"
   ]
  },
  {
   "cell_type": "code",
   "execution_count": 5,
   "metadata": {},
   "outputs": [],
   "source": [
    "X = train.iloc[:,2:]\n",
    "y = train.iloc[:,1]\n",
    "#X.shape\n",
    "#X.head()\n",
    "#y.shape\n",
    "#y.head()"
   ]
  },
  {
   "cell_type": "code",
   "execution_count": 6,
   "metadata": {},
   "outputs": [],
   "source": [
    "X_train, X_test, y_train, y_test = train_test_split(X, y, test_size=.20, random_state=42)"
   ]
  },
  {
   "cell_type": "code",
   "execution_count": 17,
   "metadata": {},
   "outputs": [],
   "source": [
    "#X_train.shape\n",
    "#X_test.shape\n",
    "#y_train.shape\n",
    "#y_test.shape"
   ]
  },
  {
   "cell_type": "code",
   "execution_count": 12,
   "metadata": {},
   "outputs": [
    {
     "data": {
      "text/plain": [
       "Pipeline(memory=None,\n",
       "     steps=[('quantiletransformer', QuantileTransformer(copy=True, ignore_implicit_zeros=False, n_quantiles=1000,\n",
       "          output_distribution='normal', random_state=None,\n",
       "          subsample=100000)), ('gaussiannb', GaussianNB(priors=None))])"
      ]
     },
     "execution_count": 12,
     "metadata": {},
     "output_type": "execute_result"
    }
   ],
   "source": [
    "######################################################################################################################\n",
    "######################################################################################################################\n",
    "######################################################################################################################\n",
    "#############Code for Naive Bayes###################\n",
    "pipeline = make_pipeline(QuantileTransformer(output_distribution='normal'), GaussianNB())\n",
    "pipeline.fit(X_train, y_train)"
   ]
  },
  {
   "cell_type": "code",
   "execution_count": 13,
   "metadata": {},
   "outputs": [
    {
     "data": {
      "text/plain": [
       "0.8894234103828369"
      ]
     },
     "execution_count": 13,
     "metadata": {},
     "output_type": "execute_result"
    }
   ],
   "source": [
    "cross_val_score(pipeline, X_train, y_train, scoring='roc_auc', cv=10).mean()"
   ]
  },
  {
   "cell_type": "code",
   "execution_count": 14,
   "metadata": {},
   "outputs": [],
   "source": [
    "y_pred = pipeline.predict(X_test)"
   ]
  },
  {
   "cell_type": "code",
   "execution_count": 6,
   "metadata": {},
   "outputs": [
    {
     "data": {
      "text/plain": [
       "{'n_estimators': [10, 70, 130, 190, 250],\n",
       " 'max_features': ['sqrt', 'log2'],\n",
       " 'max_depth': [5, 17, 30, 42, 55],\n",
       " 'min_samples_split': [5, 10, 20, 50, 100],\n",
       " 'min_samples_leaf': [5, 10, 20, 50, 100, 200, 300],\n",
       " 'bootstrap': [True, False]}"
      ]
     },
     "metadata": {},
     "output_type": "display_data"
    }
   ],
   "source": [
    "######################################################################################################################\n",
    "######################################################################################################################\n",
    "######################################################################################################################\n",
    "########################################Random Forest#####################################################\n",
    "#############Performing random grid search for random forest, for all variables, unstandardized, using the AUC metric###############\n",
    "from sklearn.ensemble import RandomForestClassifier\n",
    "from sklearn.model_selection import cross_validate\n",
    "from sklearn.metrics import f1_score, roc_auc_score, average_precision_score, confusion_matrix\n",
    "\n",
    "#Tuning the hyperparameters of Forest \n",
    "#Grid from here: (https://towardsdatascience.com/hyperparameter-tuning-the-random-forest-in-python-using-scikit-learn-28d2aa77dd74)\n",
    "#I modified the values quite a bit.\n",
    "#Also see: https://www.analyticsvidhya.com/blog/2015/06/tuning-random-forest-model/\n",
    "from sklearn.model_selection import RandomizedSearchCV\n",
    "# Number of trees in random forest\n",
    "n_estimators = [int(x) for x in np.linspace(start = 10, stop = 250, num = 5)]\n",
    "# Number of features to consider at every split\n",
    "max_features = ['sqrt', 'log2']\n",
    "# Maximum number of levels in tree\n",
    "max_depth = [int(x) for x in np.linspace(5, 55, num = 5)]\n",
    "#max_depth.append(None)\n",
    "# Minimum number of samples required to split a node\n",
    "min_samples_split = [5, 10, 20, 50, 100]\n",
    "# Minimum number of samples required at each leaf node\n",
    "min_samples_leaf = [5, 10, 20, 50, 100, 200, 300]\n",
    "# Method of selecting samples for training each tree\n",
    "bootstrap = [True, False]\n",
    "# Create the random grid\n",
    "random_grid = {'n_estimators': n_estimators,\n",
    "               'max_features': max_features,\n",
    "               'max_depth': max_depth,\n",
    "               'min_samples_split': min_samples_split,\n",
    "               'min_samples_leaf': min_samples_leaf,\n",
    "               'bootstrap': bootstrap}\n",
    "display(random_grid)"
   ]
  },
  {
   "cell_type": "code",
   "execution_count": null,
   "metadata": {},
   "outputs": [],
   "source": [
    "# Use the random grid to search for best hyperparameters\n",
    "# First create the base model to tune\n",
    "score = 'roc_auc'\n",
    "rf = RandomForestClassifier()\n",
    "# Random search of parameters, using 3 fold cross validation, \n",
    "# search across 100 different combinations, and use all available cores\n",
    "rf_random = RandomizedSearchCV(estimator = rf, param_distributions = random_grid, n_iter = 50, cv = 4, scoring = score, verbose=2, random_state=42, n_jobs = -1)\n",
    "# Fit the random search model\n",
    "rf_random.fit(X_train, y_train)"
   ]
  },
  {
   "cell_type": "code",
   "execution_count": null,
   "metadata": {},
   "outputs": [],
   "source": [
    "rf_random.best_score_\n",
    "rf_random.best_params_\n",
    "#rf_random.best_estimator_"
   ]
  },
  {
   "cell_type": "code",
   "execution_count": 5,
   "metadata": {},
   "outputs": [
    {
     "data": {
      "text/plain": [
       "{'n_estimators': [500, 750],\n",
       " 'max_features': [5, 'log2'],\n",
       " 'max_depth': [55, 75],\n",
       " 'min_samples_split': [20],\n",
       " 'min_samples_leaf': [2, 5, 10],\n",
       " 'bootstrap': [True]}"
      ]
     },
     "metadata": {},
     "output_type": "display_data"
    }
   ],
   "source": [
    "#Tuning the hyperparameters of Forest using grid search\n",
    "from sklearn.model_selection import GridSearchCV\n",
    "# Number of trees in random forest\n",
    "n_estimators = [500,750]\n",
    "# Number of features to consider at every split\n",
    "max_features = [5,'log2']\n",
    "# Maximum number of levels in tree\n",
    "max_depth = [55,75]\n",
    "#max_depth.append(None)\n",
    "# Minimum number of samples required to split a node\n",
    "min_samples_split = [20]\n",
    "# Minimum number of samples required at each leaf node\n",
    "min_samples_leaf = [2,5,10]\n",
    "# Method of selecting samples for training each tree\n",
    "bootstrap = [True]\n",
    "# Create the random grid\n",
    "param_grid = {'n_estimators': n_estimators,\n",
    "               'max_features': max_features,\n",
    "               'max_depth': max_depth,\n",
    "               'min_samples_split': min_samples_split,\n",
    "               'min_samples_leaf': min_samples_leaf,\n",
    "               'bootstrap': bootstrap}\n",
    "display(param_grid)"
   ]
  },
  {
   "cell_type": "code",
   "execution_count": 7,
   "metadata": {},
   "outputs": [
    {
     "name": "stdout",
     "output_type": "stream",
     "text": [
      "Fitting 2 folds for each of 24 candidates, totalling 48 fits\n"
     ]
    },
    {
     "name": "stderr",
     "output_type": "stream",
     "text": [
      "[Parallel(n_jobs=-1)]: Done  25 tasks      | elapsed: 77.4min\n",
      "[Parallel(n_jobs=-1)]: Done  48 out of  48 | elapsed: 138.9min finished\n"
     ]
    },
    {
     "data": {
      "text/plain": [
       "GridSearchCV(cv=2, error_score='raise',\n",
       "       estimator=RandomForestClassifier(bootstrap=True, class_weight=None, criterion='gini',\n",
       "            max_depth=None, max_features='auto', max_leaf_nodes=None,\n",
       "            min_impurity_decrease=0.0, min_impurity_split=None,\n",
       "            min_samples_leaf=1, min_samples_split=2,\n",
       "            min_weight_fraction_leaf=0.0, n_estimators=10, n_jobs=1,\n",
       "            oob_score=False, random_state=None, verbose=0,\n",
       "            warm_start=False),\n",
       "       fit_params=None, iid=True, n_jobs=-1,\n",
       "       param_grid={'n_estimators': [500, 750], 'max_features': [5, 'log2'], 'max_depth': [55, 75], 'min_samples_split': [20], 'min_samples_leaf': [2, 5, 10], 'bootstrap': [True]},\n",
       "       pre_dispatch='2*n_jobs', refit=True, return_train_score='warn',\n",
       "       scoring='roc_auc', verbose=2)"
      ]
     },
     "execution_count": 7,
     "metadata": {},
     "output_type": "execute_result"
    }
   ],
   "source": [
    "#Grid Search.\n",
    "score = 'roc_auc'\n",
    "rf = RandomForestClassifier()\n",
    "rf_grid = GridSearchCV(estimator = rf, param_grid = param_grid, \n",
    "                       cv = 2, n_jobs = -1, verbose = 2, scoring = score)\n",
    "rf_grid.fit(X_train, y_train)"
   ]
  },
  {
   "cell_type": "code",
   "execution_count": 9,
   "metadata": {},
   "outputs": [
    {
     "data": {
      "text/plain": [
       "0.8728381794677282"
      ]
     },
     "execution_count": 9,
     "metadata": {},
     "output_type": "execute_result"
    },
    {
     "data": {
      "text/plain": [
       "{'bootstrap': True,\n",
       " 'max_depth': 75,\n",
       " 'max_features': 5,\n",
       " 'min_samples_leaf': 10,\n",
       " 'min_samples_split': 20,\n",
       " 'n_estimators': 750}"
      ]
     },
     "execution_count": 9,
     "metadata": {},
     "output_type": "execute_result"
    },
    {
     "data": {
      "text/plain": [
       "RandomForestClassifier(bootstrap=True, class_weight=None, criterion='gini',\n",
       "            max_depth=75, max_features=5, max_leaf_nodes=None,\n",
       "            min_impurity_decrease=0.0, min_impurity_split=None,\n",
       "            min_samples_leaf=10, min_samples_split=20,\n",
       "            min_weight_fraction_leaf=0.0, n_estimators=750, n_jobs=1,\n",
       "            oob_score=False, random_state=None, verbose=0,\n",
       "            warm_start=False)"
      ]
     },
     "execution_count": 9,
     "metadata": {},
     "output_type": "execute_result"
    }
   ],
   "source": [
    "rf_grid.best_score_\n",
    "rf_grid.best_params_\n",
    "#rf_grid.best_estimator_"
   ]
  },
  {
   "cell_type": "code",
   "execution_count": 19,
   "metadata": {},
   "outputs": [
    {
     "name": "stderr",
     "output_type": "stream",
     "text": [
      "C:\\ProgramData\\Anaconda3\\lib\\site-packages\\sklearn\\utils\\deprecation.py:122: FutureWarning: You are accessing a training score ('split0_train_score'), which will not be available by default any more in 0.21. If you need training scores, please set return_train_score=True\n",
      "  warnings.warn(*warn_args, **warn_kwargs)\n",
      "C:\\ProgramData\\Anaconda3\\lib\\site-packages\\sklearn\\utils\\deprecation.py:122: FutureWarning: You are accessing a training score ('split1_train_score'), which will not be available by default any more in 0.21. If you need training scores, please set return_train_score=True\n",
      "  warnings.warn(*warn_args, **warn_kwargs)\n",
      "C:\\ProgramData\\Anaconda3\\lib\\site-packages\\sklearn\\utils\\deprecation.py:122: FutureWarning: You are accessing a training score ('mean_train_score'), which will not be available by default any more in 0.21. If you need training scores, please set return_train_score=True\n",
      "  warnings.warn(*warn_args, **warn_kwargs)\n",
      "C:\\ProgramData\\Anaconda3\\lib\\site-packages\\sklearn\\utils\\deprecation.py:122: FutureWarning: You are accessing a training score ('std_train_score'), which will not be available by default any more in 0.21. If you need training scores, please set return_train_score=True\n",
      "  warnings.warn(*warn_args, **warn_kwargs)\n"
     ]
    },
    {
     "data": {
      "text/html": [
       "<div>\n",
       "<style scoped>\n",
       "    .dataframe tbody tr th:only-of-type {\n",
       "        vertical-align: middle;\n",
       "    }\n",
       "\n",
       "    .dataframe tbody tr th {\n",
       "        vertical-align: top;\n",
       "    }\n",
       "\n",
       "    .dataframe thead th {\n",
       "        text-align: right;\n",
       "    }\n",
       "</style>\n",
       "<table border=\"1\" class=\"dataframe\">\n",
       "  <thead>\n",
       "    <tr style=\"text-align: right;\">\n",
       "      <th></th>\n",
       "      <th>mean_fit_time</th>\n",
       "      <th>std_fit_time</th>\n",
       "      <th>mean_score_time</th>\n",
       "      <th>std_score_time</th>\n",
       "      <th>param_bootstrap</th>\n",
       "      <th>param_max_depth</th>\n",
       "      <th>param_max_features</th>\n",
       "      <th>param_min_samples_leaf</th>\n",
       "      <th>param_min_samples_split</th>\n",
       "      <th>param_n_estimators</th>\n",
       "      <th>params</th>\n",
       "      <th>split0_test_score</th>\n",
       "      <th>split1_test_score</th>\n",
       "      <th>mean_test_score</th>\n",
       "      <th>std_test_score</th>\n",
       "      <th>rank_test_score</th>\n",
       "      <th>split0_train_score</th>\n",
       "      <th>split1_train_score</th>\n",
       "      <th>mean_train_score</th>\n",
       "      <th>std_train_score</th>\n",
       "    </tr>\n",
       "  </thead>\n",
       "  <tbody>\n",
       "    <tr>\n",
       "      <th>17</th>\n",
       "      <td>1188.121302</td>\n",
       "      <td>4.090624</td>\n",
       "      <td>23.246833</td>\n",
       "      <td>0.053401</td>\n",
       "      <td>True</td>\n",
       "      <td>75</td>\n",
       "      <td>5</td>\n",
       "      <td>10</td>\n",
       "      <td>20</td>\n",
       "      <td>750</td>\n",
       "      <td>{'bootstrap': True, 'max_depth': 75, 'max_feat...</td>\n",
       "      <td>0.871465</td>\n",
       "      <td>0.874211</td>\n",
       "      <td>0.872838</td>\n",
       "      <td>0.001373</td>\n",
       "      <td>1</td>\n",
       "      <td>0.999997</td>\n",
       "      <td>0.999996</td>\n",
       "      <td>0.999997</td>\n",
       "      <td>5.028113e-07</td>\n",
       "    </tr>\n",
       "    <tr>\n",
       "      <th>5</th>\n",
       "      <td>1171.808834</td>\n",
       "      <td>9.128552</td>\n",
       "      <td>23.502392</td>\n",
       "      <td>0.069870</td>\n",
       "      <td>True</td>\n",
       "      <td>55</td>\n",
       "      <td>5</td>\n",
       "      <td>10</td>\n",
       "      <td>20</td>\n",
       "      <td>750</td>\n",
       "      <td>{'bootstrap': True, 'max_depth': 55, 'max_feat...</td>\n",
       "      <td>0.869520</td>\n",
       "      <td>0.874596</td>\n",
       "      <td>0.872058</td>\n",
       "      <td>0.002538</td>\n",
       "      <td>2</td>\n",
       "      <td>0.999996</td>\n",
       "      <td>0.999997</td>\n",
       "      <td>0.999996</td>\n",
       "      <td>3.661838e-07</td>\n",
       "    </tr>\n",
       "    <tr>\n",
       "      <th>4</th>\n",
       "      <td>788.493998</td>\n",
       "      <td>8.228735</td>\n",
       "      <td>15.833131</td>\n",
       "      <td>0.247540</td>\n",
       "      <td>True</td>\n",
       "      <td>55</td>\n",
       "      <td>5</td>\n",
       "      <td>10</td>\n",
       "      <td>20</td>\n",
       "      <td>500</td>\n",
       "      <td>{'bootstrap': True, 'max_depth': 55, 'max_feat...</td>\n",
       "      <td>0.868902</td>\n",
       "      <td>0.873614</td>\n",
       "      <td>0.871258</td>\n",
       "      <td>0.002356</td>\n",
       "      <td>3</td>\n",
       "      <td>0.999997</td>\n",
       "      <td>0.999996</td>\n",
       "      <td>0.999996</td>\n",
       "      <td>3.529083e-07</td>\n",
       "    </tr>\n",
       "    <tr>\n",
       "      <th>16</th>\n",
       "      <td>802.589767</td>\n",
       "      <td>3.664433</td>\n",
       "      <td>15.735285</td>\n",
       "      <td>0.138742</td>\n",
       "      <td>True</td>\n",
       "      <td>75</td>\n",
       "      <td>5</td>\n",
       "      <td>10</td>\n",
       "      <td>20</td>\n",
       "      <td>500</td>\n",
       "      <td>{'bootstrap': True, 'max_depth': 75, 'max_feat...</td>\n",
       "      <td>0.869426</td>\n",
       "      <td>0.872270</td>\n",
       "      <td>0.870848</td>\n",
       "      <td>0.001422</td>\n",
       "      <td>4</td>\n",
       "      <td>0.999995</td>\n",
       "      <td>0.999997</td>\n",
       "      <td>0.999996</td>\n",
       "      <td>6.781592e-07</td>\n",
       "    </tr>\n",
       "    <tr>\n",
       "      <th>15</th>\n",
       "      <td>1282.170920</td>\n",
       "      <td>6.498678</td>\n",
       "      <td>24.927966</td>\n",
       "      <td>0.083598</td>\n",
       "      <td>True</td>\n",
       "      <td>75</td>\n",
       "      <td>5</td>\n",
       "      <td>5</td>\n",
       "      <td>20</td>\n",
       "      <td>750</td>\n",
       "      <td>{'bootstrap': True, 'max_depth': 75, 'max_feat...</td>\n",
       "      <td>0.869149</td>\n",
       "      <td>0.872466</td>\n",
       "      <td>0.870808</td>\n",
       "      <td>0.001659</td>\n",
       "      <td>5</td>\n",
       "      <td>1.000000</td>\n",
       "      <td>1.000000</td>\n",
       "      <td>1.000000</td>\n",
       "      <td>4.425182e-09</td>\n",
       "    </tr>\n",
       "    <tr>\n",
       "      <th>3</th>\n",
       "      <td>1242.880284</td>\n",
       "      <td>10.224535</td>\n",
       "      <td>25.404377</td>\n",
       "      <td>0.364822</td>\n",
       "      <td>True</td>\n",
       "      <td>55</td>\n",
       "      <td>5</td>\n",
       "      <td>5</td>\n",
       "      <td>20</td>\n",
       "      <td>750</td>\n",
       "      <td>{'bootstrap': True, 'max_depth': 55, 'max_feat...</td>\n",
       "      <td>0.869142</td>\n",
       "      <td>0.872150</td>\n",
       "      <td>0.870646</td>\n",
       "      <td>0.001504</td>\n",
       "      <td>6</td>\n",
       "      <td>1.000000</td>\n",
       "      <td>1.000000</td>\n",
       "      <td>1.000000</td>\n",
       "      <td>4.978330e-09</td>\n",
       "    </tr>\n",
       "    <tr>\n",
       "      <th>2</th>\n",
       "      <td>826.366044</td>\n",
       "      <td>1.867286</td>\n",
       "      <td>17.262984</td>\n",
       "      <td>0.169685</td>\n",
       "      <td>True</td>\n",
       "      <td>55</td>\n",
       "      <td>5</td>\n",
       "      <td>5</td>\n",
       "      <td>20</td>\n",
       "      <td>500</td>\n",
       "      <td>{'bootstrap': True, 'max_depth': 55, 'max_feat...</td>\n",
       "      <td>0.867893</td>\n",
       "      <td>0.869358</td>\n",
       "      <td>0.868626</td>\n",
       "      <td>0.000732</td>\n",
       "      <td>7</td>\n",
       "      <td>1.000000</td>\n",
       "      <td>1.000000</td>\n",
       "      <td>1.000000</td>\n",
       "      <td>7.522810e-08</td>\n",
       "    </tr>\n",
       "    <tr>\n",
       "      <th>14</th>\n",
       "      <td>851.876784</td>\n",
       "      <td>7.341622</td>\n",
       "      <td>16.912356</td>\n",
       "      <td>0.376052</td>\n",
       "      <td>True</td>\n",
       "      <td>75</td>\n",
       "      <td>5</td>\n",
       "      <td>5</td>\n",
       "      <td>20</td>\n",
       "      <td>500</td>\n",
       "      <td>{'bootstrap': True, 'max_depth': 75, 'max_feat...</td>\n",
       "      <td>0.867131</td>\n",
       "      <td>0.869501</td>\n",
       "      <td>0.868316</td>\n",
       "      <td>0.001185</td>\n",
       "      <td>8</td>\n",
       "      <td>1.000000</td>\n",
       "      <td>1.000000</td>\n",
       "      <td>1.000000</td>\n",
       "      <td>7.467495e-08</td>\n",
       "    </tr>\n",
       "    <tr>\n",
       "      <th>23</th>\n",
       "      <td>1276.523667</td>\n",
       "      <td>20.226698</td>\n",
       "      <td>17.164868</td>\n",
       "      <td>0.199389</td>\n",
       "      <td>True</td>\n",
       "      <td>75</td>\n",
       "      <td>log2</td>\n",
       "      <td>10</td>\n",
       "      <td>20</td>\n",
       "      <td>750</td>\n",
       "      <td>{'bootstrap': True, 'max_depth': 75, 'max_feat...</td>\n",
       "      <td>0.865134</td>\n",
       "      <td>0.869452</td>\n",
       "      <td>0.867293</td>\n",
       "      <td>0.002159</td>\n",
       "      <td>9</td>\n",
       "      <td>0.999990</td>\n",
       "      <td>0.999990</td>\n",
       "      <td>0.999990</td>\n",
       "      <td>2.594263e-07</td>\n",
       "    </tr>\n",
       "    <tr>\n",
       "      <th>13</th>\n",
       "      <td>1408.033100</td>\n",
       "      <td>9.402028</td>\n",
       "      <td>27.385655</td>\n",
       "      <td>0.125768</td>\n",
       "      <td>True</td>\n",
       "      <td>75</td>\n",
       "      <td>5</td>\n",
       "      <td>2</td>\n",
       "      <td>20</td>\n",
       "      <td>750</td>\n",
       "      <td>{'bootstrap': True, 'max_depth': 75, 'max_feat...</td>\n",
       "      <td>0.866001</td>\n",
       "      <td>0.867989</td>\n",
       "      <td>0.866995</td>\n",
       "      <td>0.000994</td>\n",
       "      <td>10</td>\n",
       "      <td>1.000000</td>\n",
       "      <td>1.000000</td>\n",
       "      <td>1.000000</td>\n",
       "      <td>0.000000e+00</td>\n",
       "    </tr>\n",
       "    <tr>\n",
       "      <th>11</th>\n",
       "      <td>1711.060201</td>\n",
       "      <td>19.052866</td>\n",
       "      <td>23.642362</td>\n",
       "      <td>0.126515</td>\n",
       "      <td>True</td>\n",
       "      <td>55</td>\n",
       "      <td>log2</td>\n",
       "      <td>10</td>\n",
       "      <td>20</td>\n",
       "      <td>750</td>\n",
       "      <td>{'bootstrap': True, 'max_depth': 55, 'max_feat...</td>\n",
       "      <td>0.864514</td>\n",
       "      <td>0.868633</td>\n",
       "      <td>0.866573</td>\n",
       "      <td>0.002059</td>\n",
       "      <td>11</td>\n",
       "      <td>0.999988</td>\n",
       "      <td>0.999989</td>\n",
       "      <td>0.999988</td>\n",
       "      <td>2.986998e-07</td>\n",
       "    </tr>\n",
       "    <tr>\n",
       "      <th>1</th>\n",
       "      <td>1355.365390</td>\n",
       "      <td>14.466415</td>\n",
       "      <td>27.483272</td>\n",
       "      <td>0.892096</td>\n",
       "      <td>True</td>\n",
       "      <td>55</td>\n",
       "      <td>5</td>\n",
       "      <td>2</td>\n",
       "      <td>20</td>\n",
       "      <td>750</td>\n",
       "      <td>{'bootstrap': True, 'max_depth': 55, 'max_feat...</td>\n",
       "      <td>0.865679</td>\n",
       "      <td>0.867220</td>\n",
       "      <td>0.866449</td>\n",
       "      <td>0.000770</td>\n",
       "      <td>12</td>\n",
       "      <td>1.000000</td>\n",
       "      <td>1.000000</td>\n",
       "      <td>1.000000</td>\n",
       "      <td>4.425182e-09</td>\n",
       "    </tr>\n",
       "    <tr>\n",
       "      <th>21</th>\n",
       "      <td>1713.320399</td>\n",
       "      <td>11.163297</td>\n",
       "      <td>19.453864</td>\n",
       "      <td>0.141736</td>\n",
       "      <td>True</td>\n",
       "      <td>75</td>\n",
       "      <td>log2</td>\n",
       "      <td>5</td>\n",
       "      <td>20</td>\n",
       "      <td>750</td>\n",
       "      <td>{'bootstrap': True, 'max_depth': 75, 'max_feat...</td>\n",
       "      <td>0.863348</td>\n",
       "      <td>0.867451</td>\n",
       "      <td>0.865400</td>\n",
       "      <td>0.002052</td>\n",
       "      <td>13</td>\n",
       "      <td>0.999998</td>\n",
       "      <td>0.999999</td>\n",
       "      <td>0.999999</td>\n",
       "      <td>5.221715e-07</td>\n",
       "    </tr>\n",
       "    <tr>\n",
       "      <th>22</th>\n",
       "      <td>1077.819638</td>\n",
       "      <td>3.875316</td>\n",
       "      <td>13.720266</td>\n",
       "      <td>0.045665</td>\n",
       "      <td>True</td>\n",
       "      <td>75</td>\n",
       "      <td>log2</td>\n",
       "      <td>10</td>\n",
       "      <td>20</td>\n",
       "      <td>500</td>\n",
       "      <td>{'bootstrap': True, 'max_depth': 75, 'max_feat...</td>\n",
       "      <td>0.862625</td>\n",
       "      <td>0.867951</td>\n",
       "      <td>0.865288</td>\n",
       "      <td>0.002663</td>\n",
       "      <td>14</td>\n",
       "      <td>0.999989</td>\n",
       "      <td>0.999987</td>\n",
       "      <td>0.999988</td>\n",
       "      <td>8.075957e-07</td>\n",
       "    </tr>\n",
       "    <tr>\n",
       "      <th>9</th>\n",
       "      <td>1818.673614</td>\n",
       "      <td>22.586803</td>\n",
       "      <td>25.583010</td>\n",
       "      <td>0.419222</td>\n",
       "      <td>True</td>\n",
       "      <td>55</td>\n",
       "      <td>log2</td>\n",
       "      <td>5</td>\n",
       "      <td>20</td>\n",
       "      <td>750</td>\n",
       "      <td>{'bootstrap': True, 'max_depth': 55, 'max_feat...</td>\n",
       "      <td>0.863130</td>\n",
       "      <td>0.867004</td>\n",
       "      <td>0.865067</td>\n",
       "      <td>0.001937</td>\n",
       "      <td>15</td>\n",
       "      <td>0.999998</td>\n",
       "      <td>0.999999</td>\n",
       "      <td>0.999999</td>\n",
       "      <td>2.710424e-07</td>\n",
       "    </tr>\n",
       "    <tr>\n",
       "      <th>10</th>\n",
       "      <td>1118.381153</td>\n",
       "      <td>16.508605</td>\n",
       "      <td>15.714832</td>\n",
       "      <td>0.043419</td>\n",
       "      <td>True</td>\n",
       "      <td>55</td>\n",
       "      <td>log2</td>\n",
       "      <td>10</td>\n",
       "      <td>20</td>\n",
       "      <td>500</td>\n",
       "      <td>{'bootstrap': True, 'max_depth': 55, 'max_feat...</td>\n",
       "      <td>0.862539</td>\n",
       "      <td>0.867335</td>\n",
       "      <td>0.864937</td>\n",
       "      <td>0.002398</td>\n",
       "      <td>16</td>\n",
       "      <td>0.999984</td>\n",
       "      <td>0.999983</td>\n",
       "      <td>0.999983</td>\n",
       "      <td>5.028113e-07</td>\n",
       "    </tr>\n",
       "    <tr>\n",
       "      <th>12</th>\n",
       "      <td>931.819528</td>\n",
       "      <td>10.390441</td>\n",
       "      <td>17.835137</td>\n",
       "      <td>0.028198</td>\n",
       "      <td>True</td>\n",
       "      <td>75</td>\n",
       "      <td>5</td>\n",
       "      <td>2</td>\n",
       "      <td>20</td>\n",
       "      <td>500</td>\n",
       "      <td>{'bootstrap': True, 'max_depth': 75, 'max_feat...</td>\n",
       "      <td>0.863306</td>\n",
       "      <td>0.865409</td>\n",
       "      <td>0.864357</td>\n",
       "      <td>0.001051</td>\n",
       "      <td>17</td>\n",
       "      <td>1.000000</td>\n",
       "      <td>1.000000</td>\n",
       "      <td>1.000000</td>\n",
       "      <td>2.765739e-09</td>\n",
       "    </tr>\n",
       "    <tr>\n",
       "      <th>0</th>\n",
       "      <td>900.659511</td>\n",
       "      <td>11.891447</td>\n",
       "      <td>18.107667</td>\n",
       "      <td>0.237310</td>\n",
       "      <td>True</td>\n",
       "      <td>55</td>\n",
       "      <td>5</td>\n",
       "      <td>2</td>\n",
       "      <td>20</td>\n",
       "      <td>500</td>\n",
       "      <td>{'bootstrap': True, 'max_depth': 55, 'max_feat...</td>\n",
       "      <td>0.863584</td>\n",
       "      <td>0.864962</td>\n",
       "      <td>0.864273</td>\n",
       "      <td>0.000689</td>\n",
       "      <td>18</td>\n",
       "      <td>1.000000</td>\n",
       "      <td>1.000000</td>\n",
       "      <td>1.000000</td>\n",
       "      <td>1.106295e-09</td>\n",
       "    </tr>\n",
       "    <tr>\n",
       "      <th>20</th>\n",
       "      <td>1206.674889</td>\n",
       "      <td>8.756973</td>\n",
       "      <td>16.483139</td>\n",
       "      <td>0.092578</td>\n",
       "      <td>True</td>\n",
       "      <td>75</td>\n",
       "      <td>log2</td>\n",
       "      <td>5</td>\n",
       "      <td>20</td>\n",
       "      <td>500</td>\n",
       "      <td>{'bootstrap': True, 'max_depth': 75, 'max_feat...</td>\n",
       "      <td>0.862129</td>\n",
       "      <td>0.866089</td>\n",
       "      <td>0.864109</td>\n",
       "      <td>0.001980</td>\n",
       "      <td>19</td>\n",
       "      <td>0.999999</td>\n",
       "      <td>0.999999</td>\n",
       "      <td>0.999999</td>\n",
       "      <td>1.814325e-07</td>\n",
       "    </tr>\n",
       "    <tr>\n",
       "      <th>8</th>\n",
       "      <td>1207.098048</td>\n",
       "      <td>15.833856</td>\n",
       "      <td>16.577736</td>\n",
       "      <td>0.012976</td>\n",
       "      <td>True</td>\n",
       "      <td>55</td>\n",
       "      <td>log2</td>\n",
       "      <td>5</td>\n",
       "      <td>20</td>\n",
       "      <td>500</td>\n",
       "      <td>{'bootstrap': True, 'max_depth': 55, 'max_feat...</td>\n",
       "      <td>0.861740</td>\n",
       "      <td>0.865444</td>\n",
       "      <td>0.863592</td>\n",
       "      <td>0.001852</td>\n",
       "      <td>20</td>\n",
       "      <td>0.999998</td>\n",
       "      <td>0.999998</td>\n",
       "      <td>0.999998</td>\n",
       "      <td>1.216925e-08</td>\n",
       "    </tr>\n",
       "    <tr>\n",
       "      <th>19</th>\n",
       "      <td>1997.866520</td>\n",
       "      <td>19.412149</td>\n",
       "      <td>26.208069</td>\n",
       "      <td>0.701946</td>\n",
       "      <td>True</td>\n",
       "      <td>75</td>\n",
       "      <td>log2</td>\n",
       "      <td>2</td>\n",
       "      <td>20</td>\n",
       "      <td>750</td>\n",
       "      <td>{'bootstrap': True, 'max_depth': 75, 'max_feat...</td>\n",
       "      <td>0.859820</td>\n",
       "      <td>0.862145</td>\n",
       "      <td>0.860982</td>\n",
       "      <td>0.001162</td>\n",
       "      <td>21</td>\n",
       "      <td>1.000000</td>\n",
       "      <td>1.000000</td>\n",
       "      <td>1.000000</td>\n",
       "      <td>0.000000e+00</td>\n",
       "    </tr>\n",
       "    <tr>\n",
       "      <th>7</th>\n",
       "      <td>1975.088784</td>\n",
       "      <td>14.781049</td>\n",
       "      <td>27.181299</td>\n",
       "      <td>0.103559</td>\n",
       "      <td>True</td>\n",
       "      <td>55</td>\n",
       "      <td>log2</td>\n",
       "      <td>2</td>\n",
       "      <td>20</td>\n",
       "      <td>750</td>\n",
       "      <td>{'bootstrap': True, 'max_depth': 55, 'max_feat...</td>\n",
       "      <td>0.858944</td>\n",
       "      <td>0.861800</td>\n",
       "      <td>0.860372</td>\n",
       "      <td>0.001428</td>\n",
       "      <td>22</td>\n",
       "      <td>1.000000</td>\n",
       "      <td>1.000000</td>\n",
       "      <td>1.000000</td>\n",
       "      <td>5.476163e-08</td>\n",
       "    </tr>\n",
       "    <tr>\n",
       "      <th>18</th>\n",
       "      <td>1343.829424</td>\n",
       "      <td>8.620715</td>\n",
       "      <td>18.081669</td>\n",
       "      <td>0.173428</td>\n",
       "      <td>True</td>\n",
       "      <td>75</td>\n",
       "      <td>log2</td>\n",
       "      <td>2</td>\n",
       "      <td>20</td>\n",
       "      <td>500</td>\n",
       "      <td>{'bootstrap': True, 'max_depth': 75, 'max_feat...</td>\n",
       "      <td>0.858792</td>\n",
       "      <td>0.861158</td>\n",
       "      <td>0.859975</td>\n",
       "      <td>0.001183</td>\n",
       "      <td>23</td>\n",
       "      <td>1.000000</td>\n",
       "      <td>1.000000</td>\n",
       "      <td>1.000000</td>\n",
       "      <td>5.531477e-10</td>\n",
       "    </tr>\n",
       "    <tr>\n",
       "      <th>6</th>\n",
       "      <td>1316.177200</td>\n",
       "      <td>5.852634</td>\n",
       "      <td>17.910764</td>\n",
       "      <td>0.251031</td>\n",
       "      <td>True</td>\n",
       "      <td>55</td>\n",
       "      <td>log2</td>\n",
       "      <td>2</td>\n",
       "      <td>20</td>\n",
       "      <td>500</td>\n",
       "      <td>{'bootstrap': True, 'max_depth': 55, 'max_feat...</td>\n",
       "      <td>0.858496</td>\n",
       "      <td>0.860777</td>\n",
       "      <td>0.859637</td>\n",
       "      <td>0.001141</td>\n",
       "      <td>24</td>\n",
       "      <td>1.000000</td>\n",
       "      <td>1.000000</td>\n",
       "      <td>1.000000</td>\n",
       "      <td>3.650775e-08</td>\n",
       "    </tr>\n",
       "  </tbody>\n",
       "</table>\n",
       "</div>"
      ],
      "text/plain": [
       "    mean_fit_time  std_fit_time  mean_score_time  std_score_time  \\\n",
       "17    1188.121302      4.090624        23.246833        0.053401   \n",
       "5     1171.808834      9.128552        23.502392        0.069870   \n",
       "4      788.493998      8.228735        15.833131        0.247540   \n",
       "16     802.589767      3.664433        15.735285        0.138742   \n",
       "15    1282.170920      6.498678        24.927966        0.083598   \n",
       "3     1242.880284     10.224535        25.404377        0.364822   \n",
       "2      826.366044      1.867286        17.262984        0.169685   \n",
       "14     851.876784      7.341622        16.912356        0.376052   \n",
       "23    1276.523667     20.226698        17.164868        0.199389   \n",
       "13    1408.033100      9.402028        27.385655        0.125768   \n",
       "11    1711.060201     19.052866        23.642362        0.126515   \n",
       "1     1355.365390     14.466415        27.483272        0.892096   \n",
       "21    1713.320399     11.163297        19.453864        0.141736   \n",
       "22    1077.819638      3.875316        13.720266        0.045665   \n",
       "9     1818.673614     22.586803        25.583010        0.419222   \n",
       "10    1118.381153     16.508605        15.714832        0.043419   \n",
       "12     931.819528     10.390441        17.835137        0.028198   \n",
       "0      900.659511     11.891447        18.107667        0.237310   \n",
       "20    1206.674889      8.756973        16.483139        0.092578   \n",
       "8     1207.098048     15.833856        16.577736        0.012976   \n",
       "19    1997.866520     19.412149        26.208069        0.701946   \n",
       "7     1975.088784     14.781049        27.181299        0.103559   \n",
       "18    1343.829424      8.620715        18.081669        0.173428   \n",
       "6     1316.177200      5.852634        17.910764        0.251031   \n",
       "\n",
       "   param_bootstrap param_max_depth param_max_features param_min_samples_leaf  \\\n",
       "17            True              75                  5                     10   \n",
       "5             True              55                  5                     10   \n",
       "4             True              55                  5                     10   \n",
       "16            True              75                  5                     10   \n",
       "15            True              75                  5                      5   \n",
       "3             True              55                  5                      5   \n",
       "2             True              55                  5                      5   \n",
       "14            True              75                  5                      5   \n",
       "23            True              75               log2                     10   \n",
       "13            True              75                  5                      2   \n",
       "11            True              55               log2                     10   \n",
       "1             True              55                  5                      2   \n",
       "21            True              75               log2                      5   \n",
       "22            True              75               log2                     10   \n",
       "9             True              55               log2                      5   \n",
       "10            True              55               log2                     10   \n",
       "12            True              75                  5                      2   \n",
       "0             True              55                  5                      2   \n",
       "20            True              75               log2                      5   \n",
       "8             True              55               log2                      5   \n",
       "19            True              75               log2                      2   \n",
       "7             True              55               log2                      2   \n",
       "18            True              75               log2                      2   \n",
       "6             True              55               log2                      2   \n",
       "\n",
       "   param_min_samples_split param_n_estimators  \\\n",
       "17                      20                750   \n",
       "5                       20                750   \n",
       "4                       20                500   \n",
       "16                      20                500   \n",
       "15                      20                750   \n",
       "3                       20                750   \n",
       "2                       20                500   \n",
       "14                      20                500   \n",
       "23                      20                750   \n",
       "13                      20                750   \n",
       "11                      20                750   \n",
       "1                       20                750   \n",
       "21                      20                750   \n",
       "22                      20                500   \n",
       "9                       20                750   \n",
       "10                      20                500   \n",
       "12                      20                500   \n",
       "0                       20                500   \n",
       "20                      20                500   \n",
       "8                       20                500   \n",
       "19                      20                750   \n",
       "7                       20                750   \n",
       "18                      20                500   \n",
       "6                       20                500   \n",
       "\n",
       "                                               params  split0_test_score  \\\n",
       "17  {'bootstrap': True, 'max_depth': 75, 'max_feat...           0.871465   \n",
       "5   {'bootstrap': True, 'max_depth': 55, 'max_feat...           0.869520   \n",
       "4   {'bootstrap': True, 'max_depth': 55, 'max_feat...           0.868902   \n",
       "16  {'bootstrap': True, 'max_depth': 75, 'max_feat...           0.869426   \n",
       "15  {'bootstrap': True, 'max_depth': 75, 'max_feat...           0.869149   \n",
       "3   {'bootstrap': True, 'max_depth': 55, 'max_feat...           0.869142   \n",
       "2   {'bootstrap': True, 'max_depth': 55, 'max_feat...           0.867893   \n",
       "14  {'bootstrap': True, 'max_depth': 75, 'max_feat...           0.867131   \n",
       "23  {'bootstrap': True, 'max_depth': 75, 'max_feat...           0.865134   \n",
       "13  {'bootstrap': True, 'max_depth': 75, 'max_feat...           0.866001   \n",
       "11  {'bootstrap': True, 'max_depth': 55, 'max_feat...           0.864514   \n",
       "1   {'bootstrap': True, 'max_depth': 55, 'max_feat...           0.865679   \n",
       "21  {'bootstrap': True, 'max_depth': 75, 'max_feat...           0.863348   \n",
       "22  {'bootstrap': True, 'max_depth': 75, 'max_feat...           0.862625   \n",
       "9   {'bootstrap': True, 'max_depth': 55, 'max_feat...           0.863130   \n",
       "10  {'bootstrap': True, 'max_depth': 55, 'max_feat...           0.862539   \n",
       "12  {'bootstrap': True, 'max_depth': 75, 'max_feat...           0.863306   \n",
       "0   {'bootstrap': True, 'max_depth': 55, 'max_feat...           0.863584   \n",
       "20  {'bootstrap': True, 'max_depth': 75, 'max_feat...           0.862129   \n",
       "8   {'bootstrap': True, 'max_depth': 55, 'max_feat...           0.861740   \n",
       "19  {'bootstrap': True, 'max_depth': 75, 'max_feat...           0.859820   \n",
       "7   {'bootstrap': True, 'max_depth': 55, 'max_feat...           0.858944   \n",
       "18  {'bootstrap': True, 'max_depth': 75, 'max_feat...           0.858792   \n",
       "6   {'bootstrap': True, 'max_depth': 55, 'max_feat...           0.858496   \n",
       "\n",
       "    split1_test_score  mean_test_score  std_test_score  rank_test_score  \\\n",
       "17           0.874211         0.872838        0.001373                1   \n",
       "5            0.874596         0.872058        0.002538                2   \n",
       "4            0.873614         0.871258        0.002356                3   \n",
       "16           0.872270         0.870848        0.001422                4   \n",
       "15           0.872466         0.870808        0.001659                5   \n",
       "3            0.872150         0.870646        0.001504                6   \n",
       "2            0.869358         0.868626        0.000732                7   \n",
       "14           0.869501         0.868316        0.001185                8   \n",
       "23           0.869452         0.867293        0.002159                9   \n",
       "13           0.867989         0.866995        0.000994               10   \n",
       "11           0.868633         0.866573        0.002059               11   \n",
       "1            0.867220         0.866449        0.000770               12   \n",
       "21           0.867451         0.865400        0.002052               13   \n",
       "22           0.867951         0.865288        0.002663               14   \n",
       "9            0.867004         0.865067        0.001937               15   \n",
       "10           0.867335         0.864937        0.002398               16   \n",
       "12           0.865409         0.864357        0.001051               17   \n",
       "0            0.864962         0.864273        0.000689               18   \n",
       "20           0.866089         0.864109        0.001980               19   \n",
       "8            0.865444         0.863592        0.001852               20   \n",
       "19           0.862145         0.860982        0.001162               21   \n",
       "7            0.861800         0.860372        0.001428               22   \n",
       "18           0.861158         0.859975        0.001183               23   \n",
       "6            0.860777         0.859637        0.001141               24   \n",
       "\n",
       "    split0_train_score  split1_train_score  mean_train_score  std_train_score  \n",
       "17            0.999997            0.999996          0.999997     5.028113e-07  \n",
       "5             0.999996            0.999997          0.999996     3.661838e-07  \n",
       "4             0.999997            0.999996          0.999996     3.529083e-07  \n",
       "16            0.999995            0.999997          0.999996     6.781592e-07  \n",
       "15            1.000000            1.000000          1.000000     4.425182e-09  \n",
       "3             1.000000            1.000000          1.000000     4.978330e-09  \n",
       "2             1.000000            1.000000          1.000000     7.522810e-08  \n",
       "14            1.000000            1.000000          1.000000     7.467495e-08  \n",
       "23            0.999990            0.999990          0.999990     2.594263e-07  \n",
       "13            1.000000            1.000000          1.000000     0.000000e+00  \n",
       "11            0.999988            0.999989          0.999988     2.986998e-07  \n",
       "1             1.000000            1.000000          1.000000     4.425182e-09  \n",
       "21            0.999998            0.999999          0.999999     5.221715e-07  \n",
       "22            0.999989            0.999987          0.999988     8.075957e-07  \n",
       "9             0.999998            0.999999          0.999999     2.710424e-07  \n",
       "10            0.999984            0.999983          0.999983     5.028113e-07  \n",
       "12            1.000000            1.000000          1.000000     2.765739e-09  \n",
       "0             1.000000            1.000000          1.000000     1.106295e-09  \n",
       "20            0.999999            0.999999          0.999999     1.814325e-07  \n",
       "8             0.999998            0.999998          0.999998     1.216925e-08  \n",
       "19            1.000000            1.000000          1.000000     0.000000e+00  \n",
       "7             1.000000            1.000000          1.000000     5.476163e-08  \n",
       "18            1.000000            1.000000          1.000000     5.531477e-10  \n",
       "6             1.000000            1.000000          1.000000     3.650775e-08  "
      ]
     },
     "metadata": {},
     "output_type": "display_data"
    }
   ],
   "source": [
    "display(pd.DataFrame(rf_grid.cv_results_).sort_values(by='mean_test_score', ascending=False))"
   ]
  },
  {
   "cell_type": "code",
   "execution_count": 75,
   "metadata": {},
   "outputs": [
    {
     "name": "stdout",
     "output_type": "stream",
     "text": [
      "CV iterations: 2\n",
      "AUC mean: 0.877\n",
      "AUC std: 0.002\n",
      "Wall time: 11min 32s\n"
     ]
    }
   ],
   "source": [
    "%%time\n",
    "#Trying to do a bit better.\n",
    "score = 'roc_auc'\n",
    "Forest = RandomForestClassifier(n_estimators=1000, max_features=4, max_depth=100, min_samples_split=20, min_samples_leaf=10, bootstrap=True, random_state=0)\n",
    "ForestScores5 = cross_val_score(Forest, X_train, y_train, cv=2, n_jobs=-1, scoring=score)\n",
    "print(\"CV iterations: {}\\nAUC mean: {:.3f}\\nAUC std: {:.3f}\".format(len(ForestScores5), ForestScores5.mean(), ForestScores5.std()))"
   ]
  },
  {
   "cell_type": "code",
   "execution_count": null,
   "metadata": {},
   "outputs": [],
   "source": [
    "#######################Final forest model with predictions and submission (ForestScores5)#################\n",
    "Forest = RandomForestClassifier(n_estimators=1000, max_features=4, max_depth=100, min_samples_split=20, min_samples_leaf=10, bootstrap=True, random_state=0)\n",
    "ForestModel = Forest.fit(X_train, y_train)\n",
    "y_pred = ForestModel.predict_proba(X_test)"
   ]
  },
  {
   "cell_type": "code",
   "execution_count": null,
   "metadata": {},
   "outputs": [],
   "source": [
    "######################################################################################################################\n",
    "######################################################################################################################\n",
    "######################################################################################################################\n",
    "###################################Logistic regression#############################"
   ]
  },
  {
   "cell_type": "code",
   "execution_count": null,
   "metadata": {},
   "outputs": [],
   "source": [
    "###Custom transformer for feature engineering.\n",
    "class FeatureEngineering(BaseEstimator, TransformerMixin):          \n",
    "    #Class Constructor \n",
    "    def __init__(self, agg=1):\n",
    "        self.agg = agg\n",
    "    \n",
    "    #Return self nothing else to do here    \n",
    "    def fit(self, X, y = None):\n",
    "        return self \n",
    "    \n",
    "    #Method that describes what we need this transformer to do\n",
    "    def transform(self, X, y = None):\n",
    "        X = pd.DataFrame(X)\n",
    "        if self.agg == 1:\n",
    "            return X.values\n",
    "        elif self.agg == 2:\n",
    "            idx =  X.columns.values[2:202]             \n",
    "            X['sum'] = X[idx].sum(axis=1)  \n",
    "            X['min'] = X[idx].min(axis=1)\n",
    "            X['max'] = X[idx].max(axis=1)\n",
    "            X['mean'] = X[idx].mean(axis=1)\n",
    "            X['std'] = X[idx].std(axis=1)\n",
    "            X['skew'] = X[idx].skew(axis=1)\n",
    "            X['kurt'] = X[idx].kurtosis(axis=1)\n",
    "            X['med'] = X[idx].median(axis=1)\n",
    "            return X.values\n",
    "        elif self.agg == 3:\n",
    "            idx =  X.columns.values[2:202]\n",
    "            X['sum'] = X[idx].sum(axis=1)  \n",
    "            X['min'] = X[idx].min(axis=1)\n",
    "            X['max'] = X[idx].max(axis=1)\n",
    "            X['mean'] = X[idx].mean(axis=1)\n",
    "            X['std'] = X[idx].std(axis=1)\n",
    "            X['skew'] = X[idx].skew(axis=1)\n",
    "            X['kurt'] = X[idx].kurtosis(axis=1)\n",
    "            X['med'] = X[idx].median(axis=1)\n",
    "            X = X.iloc[:,-8:]\n",
    "            return X.values"
   ]
  },
  {
   "cell_type": "code",
   "execution_count": null,
   "metadata": {},
   "outputs": [],
   "source": [
    "pipe = Pipeline([('preprocessing', StandardScaler()), \n",
    "                 ('featureengineering', FeatureEngineering(agg=2)),\n",
    "                 ('classifier', LogisticRegression(C=10, max_iter=1000, random_state=0, solver='sag'))])"
   ]
  },
  {
   "cell_type": "code",
   "execution_count": null,
   "metadata": {},
   "outputs": [],
   "source": [
    "pipe.fit(X_train, y_train)\n",
    "roc_auc_score(y_test, pipe.predict_proba(X_test)[:,1])"
   ]
  },
  {
   "cell_type": "code",
   "execution_count": null,
   "metadata": {},
   "outputs": [],
   "source": [
    "#sag is supposed to be faster for bigger datasets. However, it failed to converge with the default iteration of 100.\n",
    "from sklearn.model_selection import GridSearchCV\n",
    "C=[.01, .1, 1.0, 10]\n",
    "solver='sag',\n",
    "log_param_grid = {'C': C,\n",
    "                  'solver': solver,\n",
    "                  'max_iter': [1000]}\n",
    "display(log_param_grid)"
   ]
  },
  {
   "cell_type": "code",
   "execution_count": 41,
   "metadata": {},
   "outputs": [
    {
     "name": "stdout",
     "output_type": "stream",
     "text": [
      "Fitting 4 folds for each of 4 candidates, totalling 16 fits\n"
     ]
    },
    {
     "name": "stderr",
     "output_type": "stream",
     "text": [
      "[Parallel(n_jobs=-1)]: Done  10 out of  16 | elapsed: 13.1min remaining:  7.9min\n",
      "[Parallel(n_jobs=-1)]: Done  16 out of  16 | elapsed: 17.2min finished\n"
     ]
    },
    {
     "name": "stdout",
     "output_type": "stream",
     "text": [
      "Wall time: 24min 7s\n"
     ]
    },
    {
     "name": "stderr",
     "output_type": "stream",
     "text": [
      "C:\\ProgramData\\Anaconda3\\lib\\site-packages\\sklearn\\linear_model\\sag.py:326: ConvergenceWarning: The max_iter was reached which means the coef_ did not converge\n",
      "  \"the coef_ did not converge\", ConvergenceWarning)\n"
     ]
    }
   ],
   "source": [
    "#Note sure sag is saving time. I didn't try the default.\n",
    "%%time\n",
    "score = 'roc_auc'\n",
    "logreg = LogisticRegression()\n",
    "log_grid = GridSearchCV(estimator = logreg, param_grid = log_param_grid, \n",
    "                       cv = 4, n_jobs = -1, verbose = 2, scoring = score)\n",
    "log_grid.fit(X_train, y_train)"
   ]
  },
  {
   "cell_type": "code",
   "execution_count": 43,
   "metadata": {},
   "outputs": [
    {
     "data": {
      "text/plain": [
       "0.8589207492206489"
      ]
     },
     "execution_count": 43,
     "metadata": {},
     "output_type": "execute_result"
    },
    {
     "data": {
      "text/plain": [
       "{'C': 10, 'max_iter': 1000, 'solver': 'sag'}"
      ]
     },
     "execution_count": 43,
     "metadata": {},
     "output_type": "execute_result"
    },
    {
     "data": {
      "text/plain": [
       "LogisticRegression(C=10, class_weight=None, dual=False, fit_intercept=True,\n",
       "          intercept_scaling=1, max_iter=1000, multi_class='ovr', n_jobs=1,\n",
       "          penalty='l2', random_state=None, solver='sag', tol=0.0001,\n",
       "          verbose=0, warm_start=False)"
      ]
     },
     "execution_count": 43,
     "metadata": {},
     "output_type": "execute_result"
    }
   ],
   "source": [
    "log_grid.best_score_\n",
    "log_grid.best_params_\n",
    "#log_grid.best_estimator_"
   ]
  },
  {
   "cell_type": "code",
   "execution_count": 45,
   "metadata": {},
   "outputs": [
    {
     "name": "stderr",
     "output_type": "stream",
     "text": [
      "C:\\ProgramData\\Anaconda3\\lib\\site-packages\\sklearn\\utils\\deprecation.py:122: FutureWarning: You are accessing a training score ('split0_train_score'), which will not be available by default any more in 0.21. If you need training scores, please set return_train_score=True\n",
      "  warnings.warn(*warn_args, **warn_kwargs)\n",
      "C:\\ProgramData\\Anaconda3\\lib\\site-packages\\sklearn\\utils\\deprecation.py:122: FutureWarning: You are accessing a training score ('split1_train_score'), which will not be available by default any more in 0.21. If you need training scores, please set return_train_score=True\n",
      "  warnings.warn(*warn_args, **warn_kwargs)\n",
      "C:\\ProgramData\\Anaconda3\\lib\\site-packages\\sklearn\\utils\\deprecation.py:122: FutureWarning: You are accessing a training score ('split2_train_score'), which will not be available by default any more in 0.21. If you need training scores, please set return_train_score=True\n",
      "  warnings.warn(*warn_args, **warn_kwargs)\n",
      "C:\\ProgramData\\Anaconda3\\lib\\site-packages\\sklearn\\utils\\deprecation.py:122: FutureWarning: You are accessing a training score ('split3_train_score'), which will not be available by default any more in 0.21. If you need training scores, please set return_train_score=True\n",
      "  warnings.warn(*warn_args, **warn_kwargs)\n",
      "C:\\ProgramData\\Anaconda3\\lib\\site-packages\\sklearn\\utils\\deprecation.py:122: FutureWarning: You are accessing a training score ('mean_train_score'), which will not be available by default any more in 0.21. If you need training scores, please set return_train_score=True\n",
      "  warnings.warn(*warn_args, **warn_kwargs)\n",
      "C:\\ProgramData\\Anaconda3\\lib\\site-packages\\sklearn\\utils\\deprecation.py:122: FutureWarning: You are accessing a training score ('std_train_score'), which will not be available by default any more in 0.21. If you need training scores, please set return_train_score=True\n",
      "  warnings.warn(*warn_args, **warn_kwargs)\n"
     ]
    },
    {
     "data": {
      "text/html": [
       "<div>\n",
       "<style scoped>\n",
       "    .dataframe tbody tr th:only-of-type {\n",
       "        vertical-align: middle;\n",
       "    }\n",
       "\n",
       "    .dataframe tbody tr th {\n",
       "        vertical-align: top;\n",
       "    }\n",
       "\n",
       "    .dataframe thead th {\n",
       "        text-align: right;\n",
       "    }\n",
       "</style>\n",
       "<table border=\"1\" class=\"dataframe\">\n",
       "  <thead>\n",
       "    <tr style=\"text-align: right;\">\n",
       "      <th></th>\n",
       "      <th>mean_fit_time</th>\n",
       "      <th>std_fit_time</th>\n",
       "      <th>mean_score_time</th>\n",
       "      <th>std_score_time</th>\n",
       "      <th>param_C</th>\n",
       "      <th>param_max_iter</th>\n",
       "      <th>param_solver</th>\n",
       "      <th>params</th>\n",
       "      <th>split0_test_score</th>\n",
       "      <th>split1_test_score</th>\n",
       "      <th>...</th>\n",
       "      <th>split3_test_score</th>\n",
       "      <th>mean_test_score</th>\n",
       "      <th>std_test_score</th>\n",
       "      <th>rank_test_score</th>\n",
       "      <th>split0_train_score</th>\n",
       "      <th>split1_train_score</th>\n",
       "      <th>split2_train_score</th>\n",
       "      <th>split3_train_score</th>\n",
       "      <th>mean_train_score</th>\n",
       "      <th>std_train_score</th>\n",
       "    </tr>\n",
       "  </thead>\n",
       "  <tbody>\n",
       "    <tr>\n",
       "      <th>3</th>\n",
       "      <td>445.169238</td>\n",
       "      <td>2.747545</td>\n",
       "      <td>0.035933</td>\n",
       "      <td>0.003786</td>\n",
       "      <td>10</td>\n",
       "      <td>1000</td>\n",
       "      <td>sag</td>\n",
       "      <td>{'C': 10, 'max_iter': 1000, 'solver': 'sag'}</td>\n",
       "      <td>0.853232</td>\n",
       "      <td>0.857573</td>\n",
       "      <td>...</td>\n",
       "      <td>0.864499</td>\n",
       "      <td>0.858921</td>\n",
       "      <td>0.004105</td>\n",
       "      <td>1</td>\n",
       "      <td>0.862906</td>\n",
       "      <td>0.861501</td>\n",
       "      <td>0.860500</td>\n",
       "      <td>0.859271</td>\n",
       "      <td>0.861045</td>\n",
       "      <td>0.001334</td>\n",
       "    </tr>\n",
       "    <tr>\n",
       "      <th>2</th>\n",
       "      <td>569.194663</td>\n",
       "      <td>0.870682</td>\n",
       "      <td>0.043544</td>\n",
       "      <td>0.001880</td>\n",
       "      <td>1</td>\n",
       "      <td>1000</td>\n",
       "      <td>sag</td>\n",
       "      <td>{'C': 1.0, 'max_iter': 1000, 'solver': 'sag'}</td>\n",
       "      <td>0.853202</td>\n",
       "      <td>0.857554</td>\n",
       "      <td>...</td>\n",
       "      <td>0.864487</td>\n",
       "      <td>0.858893</td>\n",
       "      <td>0.004109</td>\n",
       "      <td>2</td>\n",
       "      <td>0.862877</td>\n",
       "      <td>0.861471</td>\n",
       "      <td>0.860474</td>\n",
       "      <td>0.859240</td>\n",
       "      <td>0.861016</td>\n",
       "      <td>0.001334</td>\n",
       "    </tr>\n",
       "    <tr>\n",
       "      <th>1</th>\n",
       "      <td>574.151204</td>\n",
       "      <td>3.182388</td>\n",
       "      <td>0.172929</td>\n",
       "      <td>0.051861</td>\n",
       "      <td>0.1</td>\n",
       "      <td>1000</td>\n",
       "      <td>sag</td>\n",
       "      <td>{'C': 0.1, 'max_iter': 1000, 'solver': 'sag'}</td>\n",
       "      <td>0.852913</td>\n",
       "      <td>0.857315</td>\n",
       "      <td>...</td>\n",
       "      <td>0.864309</td>\n",
       "      <td>0.858609</td>\n",
       "      <td>0.004132</td>\n",
       "      <td>3</td>\n",
       "      <td>0.862588</td>\n",
       "      <td>0.861180</td>\n",
       "      <td>0.860223</td>\n",
       "      <td>0.858927</td>\n",
       "      <td>0.860730</td>\n",
       "      <td>0.001338</td>\n",
       "    </tr>\n",
       "    <tr>\n",
       "      <th>0</th>\n",
       "      <td>215.111313</td>\n",
       "      <td>2.580298</td>\n",
       "      <td>0.169311</td>\n",
       "      <td>0.013140</td>\n",
       "      <td>0.01</td>\n",
       "      <td>1000</td>\n",
       "      <td>sag</td>\n",
       "      <td>{'C': 0.01, 'max_iter': 1000, 'solver': 'sag'}</td>\n",
       "      <td>0.851654</td>\n",
       "      <td>0.856365</td>\n",
       "      <td>...</td>\n",
       "      <td>0.863157</td>\n",
       "      <td>0.857400</td>\n",
       "      <td>0.004132</td>\n",
       "      <td>4</td>\n",
       "      <td>0.861363</td>\n",
       "      <td>0.859937</td>\n",
       "      <td>0.859121</td>\n",
       "      <td>0.857636</td>\n",
       "      <td>0.859514</td>\n",
       "      <td>0.001349</td>\n",
       "    </tr>\n",
       "  </tbody>\n",
       "</table>\n",
       "<p>4 rows × 21 columns</p>\n",
       "</div>"
      ],
      "text/plain": [
       "   mean_fit_time  std_fit_time  mean_score_time  std_score_time param_C  \\\n",
       "3     445.169238      2.747545         0.035933        0.003786      10   \n",
       "2     569.194663      0.870682         0.043544        0.001880       1   \n",
       "1     574.151204      3.182388         0.172929        0.051861     0.1   \n",
       "0     215.111313      2.580298         0.169311        0.013140    0.01   \n",
       "\n",
       "  param_max_iter param_solver                                          params  \\\n",
       "3           1000          sag    {'C': 10, 'max_iter': 1000, 'solver': 'sag'}   \n",
       "2           1000          sag   {'C': 1.0, 'max_iter': 1000, 'solver': 'sag'}   \n",
       "1           1000          sag   {'C': 0.1, 'max_iter': 1000, 'solver': 'sag'}   \n",
       "0           1000          sag  {'C': 0.01, 'max_iter': 1000, 'solver': 'sag'}   \n",
       "\n",
       "   split0_test_score  split1_test_score       ...         split3_test_score  \\\n",
       "3           0.853232           0.857573       ...                  0.864499   \n",
       "2           0.853202           0.857554       ...                  0.864487   \n",
       "1           0.852913           0.857315       ...                  0.864309   \n",
       "0           0.851654           0.856365       ...                  0.863157   \n",
       "\n",
       "   mean_test_score  std_test_score  rank_test_score  split0_train_score  \\\n",
       "3         0.858921        0.004105                1            0.862906   \n",
       "2         0.858893        0.004109                2            0.862877   \n",
       "1         0.858609        0.004132                3            0.862588   \n",
       "0         0.857400        0.004132                4            0.861363   \n",
       "\n",
       "   split1_train_score  split2_train_score  split3_train_score  \\\n",
       "3            0.861501            0.860500            0.859271   \n",
       "2            0.861471            0.860474            0.859240   \n",
       "1            0.861180            0.860223            0.858927   \n",
       "0            0.859937            0.859121            0.857636   \n",
       "\n",
       "   mean_train_score  std_train_score  \n",
       "3          0.861045         0.001334  \n",
       "2          0.861016         0.001334  \n",
       "1          0.860730         0.001338  \n",
       "0          0.859514         0.001349  \n",
       "\n",
       "[4 rows x 21 columns]"
      ]
     },
     "metadata": {},
     "output_type": "display_data"
    }
   ],
   "source": [
    "display(pd.DataFrame(log_grid.cv_results_).sort_values(by='mean_test_score', ascending=False))"
   ]
  },
  {
   "cell_type": "code",
   "execution_count": null,
   "metadata": {},
   "outputs": [],
   "source": [
    "######################################################################################################################\n",
    "######################################################################################################################\n",
    "######################################################################################################################\n",
    "###################################Gradient boosted tree#############################"
   ]
  },
  {
   "cell_type": "code",
   "execution_count": 5,
   "metadata": {},
   "outputs": [
    {
     "data": {
      "text/plain": [
       "{'n_estimators': [450, 550],\n",
       " 'learning_rate': [2, 1, 0.01],\n",
       " 'max_depth': [1, 2]}"
      ]
     },
     "metadata": {},
     "output_type": "display_data"
    }
   ],
   "source": [
    "#Grid search.\n",
    "n_estimators=[450, 550]\n",
    "learning_rate=[2, 1, .01]\n",
    "max_depth=[1, 2]\n",
    "param_grid = {'n_estimators': n_estimators,\n",
    "               'learning_rate': learning_rate,\n",
    "               'max_depth': max_depth}\n",
    "display(param_grid)"
   ]
  },
  {
   "cell_type": "code",
   "execution_count": 6,
   "metadata": {},
   "outputs": [
    {
     "name": "stdout",
     "output_type": "stream",
     "text": [
      "Fitting 2 folds for each of 12 candidates, totalling 24 fits\n"
     ]
    },
    {
     "name": "stderr",
     "output_type": "stream",
     "text": [
      "[Parallel(n_jobs=-1)]: Done  22 out of  24 | elapsed: 68.1min remaining:  6.2min\n",
      "[Parallel(n_jobs=-1)]: Done  24 out of  24 | elapsed: 70.9min finished\n"
     ]
    },
    {
     "data": {
      "text/plain": [
       "GridSearchCV(cv=2, error_score='raise',\n",
       "       estimator=GradientBoostingClassifier(criterion='friedman_mse', init=None,\n",
       "              learning_rate=0.1, loss='deviance', max_depth=3,\n",
       "              max_features=None, max_leaf_nodes=None,\n",
       "              min_impurity_decrease=0.0, min_impurity_split=None,\n",
       "              min_samples_leaf=1, min_samples_split=2,\n",
       "              min_weight_fraction_leaf=0.0, n_estimators=100,\n",
       "              presort='auto', random_state=None, subsample=1.0, verbose=0,\n",
       "              warm_start=False),\n",
       "       fit_params=None, iid=True, n_jobs=-1,\n",
       "       param_grid={'n_estimators': [450, 550], 'learning_rate': [2, 1, 0.01], 'max_depth': [1, 2]},\n",
       "       pre_dispatch='2*n_jobs', refit=True, return_train_score='warn',\n",
       "       scoring='roc_auc', verbose=2)"
      ]
     },
     "execution_count": 6,
     "metadata": {},
     "output_type": "execute_result"
    }
   ],
   "source": [
    "score='roc_auc'\n",
    "gbc = GradientBoostingClassifier()\n",
    "rf_grid = GridSearchCV(estimator = gbc, param_grid = param_grid, cv = 2, scoring = score, verbose=2, n_jobs = -1)\n",
    "rf_grid.fit(X_train, y_train)"
   ]
  },
  {
   "cell_type": "code",
   "execution_count": 7,
   "metadata": {},
   "outputs": [
    {
     "data": {
      "text/plain": [
       "0.8816425550090435"
      ]
     },
     "execution_count": 7,
     "metadata": {},
     "output_type": "execute_result"
    },
    {
     "data": {
      "text/plain": [
       "{'learning_rate': 1, 'max_depth': 1, 'n_estimators': 550}"
      ]
     },
     "execution_count": 7,
     "metadata": {},
     "output_type": "execute_result"
    }
   ],
   "source": [
    "rf_grid.best_score_\n",
    "rf_grid.best_params_"
   ]
  },
  {
   "cell_type": "code",
   "execution_count": null,
   "metadata": {},
   "outputs": [],
   "source": [
    "######################################################################################################################\n",
    "######################################################################################################################\n",
    "######################################################################################################################\n",
    "###################################Adaboost#############################"
   ]
  },
  {
   "cell_type": "code",
   "execution_count": 7,
   "metadata": {},
   "outputs": [
    {
     "name": "stdout",
     "output_type": "stream",
     "text": [
      "CV iterations: 2\n",
      "AUC mean: 0.877\n",
      "AUC std: 0.000\n",
      "Wall time: 19min 42s\n"
     ]
    }
   ],
   "source": [
    "%%time\n",
    "score = 'roc_auc'\n",
    "ada = AdaBoostClassifier(n_estimators=350, learning_rate=1, random_state=0) \n",
    "adaScores4 = cross_val_score(ada, X_train, y_train, cv=2, n_jobs=-1, scoring=score)\n",
    "print(\"CV iterations: {}\\nAUC mean: {:.3f}\\nAUC std: {:.3f}\".format(len(adaScores4), adaScores4.mean(), adaScores4.std()))"
   ]
  },
  {
   "cell_type": "code",
   "execution_count": 12,
   "metadata": {},
   "outputs": [
    {
     "name": "stdout",
     "output_type": "stream",
     "text": [
      "Wall time: 49min 41s\n"
     ]
    }
   ],
   "source": [
    "%%time\n",
    "score = 'roc_auc'\n",
    "ada = AdaBoostClassifier(n_estimators=500, learning_rate=1, random_state=0) \n",
    "ada_fit = ada.fit(X_train, y_train)"
   ]
  },
  {
   "cell_type": "code",
   "execution_count": 16,
   "metadata": {},
   "outputs": [
    {
     "data": {
      "text/plain": [
       "['adamodel_fit_350.pkl']"
      ]
     },
     "execution_count": 16,
     "metadata": {},
     "output_type": "execute_result"
    }
   ],
   "source": [
    "#Saving the model.\n",
    "# Output a pickle file for the model\n",
    "joblib.dump(ada_fit, 'adamodel_fit_350.pkl') "
   ]
  },
  {
   "cell_type": "code",
   "execution_count": 17,
   "metadata": {},
   "outputs": [],
   "source": [
    "# Load the pickle file\n",
    "ada_load = joblib.load('adamodel_fit_350.pkl') \n",
    " \n",
    "# Check that the loaded model is the same as the original\n",
    "assert ada.score(X_train, y_train) == ada_load.score(X_train, y_train)"
   ]
  },
  {
   "cell_type": "code",
   "execution_count": 14,
   "metadata": {},
   "outputs": [],
   "source": [
    "######################################################################################################################\n",
    "######################################################################################################################\n",
    "######################################################################################################################\n",
    "######################################XGboost#####################################################\n",
    "xgb_model = xgb.XGBClassifier(objective=\"binary:logistic\", n_estimators = 500, random_state=42)\n",
    "xgb.fit = xgb_model.fit(X_train, y_train)"
   ]
  },
  {
   "cell_type": "code",
   "execution_count": 20,
   "metadata": {},
   "outputs": [
    {
     "data": {
      "text/plain": [
       "['xgbmodel_fit_350.pkl']"
      ]
     },
     "execution_count": 20,
     "metadata": {},
     "output_type": "execute_result"
    }
   ],
   "source": [
    "#Saving the model.\n",
    "# Output a pickle file for the model\n",
    "joblib.dump(xgb.fit, 'xgbmodel_fit_350.pkl') "
   ]
  },
  {
   "cell_type": "code",
   "execution_count": null,
   "metadata": {},
   "outputs": [],
   "source": [
    "# Load the pickle file\n",
    "xgb_load = joblib.load('xgbmodel_fit_350.pkl') \n",
    " \n",
    "# Check that the loaded model is the same as the original\n",
    "assert xgb.score(X_train, y_train) == xgb_load.score(X_train, y_train)"
   ]
  },
  {
   "cell_type": "code",
   "execution_count": null,
   "metadata": {},
   "outputs": [],
   "source": [
    "aucList = []\n",
    "fpr, tpr, thr = roc_curve(y_test, ada_load.predict_proba(X_test)[:,1])\n",
    "aucList.append(auc(fpr, tpr))\n",
    "plt.plot(fpr, tpr, label='adaboost')\n",
    "fpr, tpr, thr = roc_curve(y_test, xgb_load.predict_proba(X_test)[:,1])\n",
    "aucList.append(auc(fpr, tpr))\n",
    "plt.plot(fpr, tpr, label='xgbboost')"
   ]
  },
  {
   "cell_type": "code",
   "execution_count": null,
   "metadata": {},
   "outputs": [],
   "source": [
    "######################################################################################################################\n",
    "######################################################################################################################\n",
    "######################################################################################################################\n",
    "######################################All Tuned Models#####################################################"
   ]
  },
  {
   "cell_type": "code",
   "execution_count": 18,
   "metadata": {},
   "outputs": [
    {
     "data": {
      "text/plain": [
       "StandardScaler(copy=True, with_mean=True, with_std=True)"
      ]
     },
     "execution_count": 18,
     "metadata": {},
     "output_type": "execute_result"
    }
   ],
   "source": [
    "scaler = StandardScaler()\n",
    "scaler.fit(X_train)\n",
    "X_train = scaler.transform(X_train)\n",
    "X_test = scaler.transform(X_test)"
   ]
  },
  {
   "cell_type": "code",
   "execution_count": 28,
   "metadata": {},
   "outputs": [
    {
     "name": "stderr",
     "output_type": "stream",
     "text": [
      "C:\\Users\\Curt\\Anaconda3\\lib\\site-packages\\sklearn\\linear_model\\sag.py:326: ConvergenceWarning: The max_iter was reached which means the coef_ did not converge\n",
      "  \"the coef_ did not converge\", ConvergenceWarning)\n"
     ]
    },
    {
     "data": {
      "text/plain": [
       "[<matplotlib.lines.Line2D at 0x160b9f6aac8>]"
      ]
     },
     "execution_count": 28,
     "metadata": {},
     "output_type": "execute_result"
    },
    {
     "data": {
      "text/plain": [
       "[<matplotlib.lines.Line2D at 0x160b9f74518>]"
      ]
     },
     "execution_count": 28,
     "metadata": {},
     "output_type": "execute_result"
    },
    {
     "data": {
      "text/plain": [
       "[<matplotlib.lines.Line2D at 0x160ba44dc50>]"
      ]
     },
     "execution_count": 28,
     "metadata": {},
     "output_type": "execute_result"
    },
    {
     "data": {
      "text/plain": [
       "[<matplotlib.lines.Line2D at 0x160ba5ea668>]"
      ]
     },
     "execution_count": 28,
     "metadata": {},
     "output_type": "execute_result"
    },
    {
     "data": {
      "text/plain": [
       "[<matplotlib.lines.Line2D at 0x160ba19b048>]"
      ]
     },
     "execution_count": 28,
     "metadata": {},
     "output_type": "execute_result"
    },
    {
     "data": {
      "text/plain": [
       "[<matplotlib.lines.Line2D at 0x160ba19bc18>]"
      ]
     },
     "execution_count": 28,
     "metadata": {},
     "output_type": "execute_result"
    },
    {
     "data": {
      "text/plain": [
       "<matplotlib.legend.Legend at 0x160aa209748>"
      ]
     },
     "execution_count": 28,
     "metadata": {},
     "output_type": "execute_result"
    },
    {
     "data": {
      "text/plain": [
       "Text(0.5,0,'False Positive Rate')"
      ]
     },
     "execution_count": 28,
     "metadata": {},
     "output_type": "execute_result"
    },
    {
     "data": {
      "text/plain": [
       "Text(0,0.5,'True Positive Rate')"
      ]
     },
     "execution_count": 28,
     "metadata": {},
     "output_type": "execute_result"
    },
    {
     "data": {
      "text/plain": [
       "Text(0.5,1,'Receiver Operating Characteristic Plot')"
      ]
     },
     "execution_count": 28,
     "metadata": {},
     "output_type": "execute_result"
    },
    {
     "data": {
      "text/html": [
       "<div>\n",
       "<style scoped>\n",
       "    .dataframe tbody tr th:only-of-type {\n",
       "        vertical-align: middle;\n",
       "    }\n",
       "\n",
       "    .dataframe tbody tr th {\n",
       "        vertical-align: top;\n",
       "    }\n",
       "\n",
       "    .dataframe thead th {\n",
       "        text-align: right;\n",
       "    }\n",
       "</style>\n",
       "<table border=\"1\" class=\"dataframe\">\n",
       "  <thead>\n",
       "    <tr style=\"text-align: right;\">\n",
       "      <th></th>\n",
       "      <th>Model</th>\n",
       "      <th>AUC Score</th>\n",
       "    </tr>\n",
       "  </thead>\n",
       "  <tbody>\n",
       "    <tr>\n",
       "      <th>0</th>\n",
       "      <td>Log</td>\n",
       "      <td>0.858876</td>\n",
       "    </tr>\n",
       "    <tr>\n",
       "      <th>1</th>\n",
       "      <td>Tree</td>\n",
       "      <td>0.653011</td>\n",
       "    </tr>\n",
       "    <tr>\n",
       "      <th>2</th>\n",
       "      <td>Forest</td>\n",
       "      <td>0.876505</td>\n",
       "    </tr>\n",
       "    <tr>\n",
       "      <th>3</th>\n",
       "      <td>GradientBoost</td>\n",
       "      <td>0.888013</td>\n",
       "    </tr>\n",
       "    <tr>\n",
       "      <th>4</th>\n",
       "      <td>AdaBoost</td>\n",
       "      <td>0.884841</td>\n",
       "    </tr>\n",
       "    <tr>\n",
       "      <th>5</th>\n",
       "      <td>XGBoost</td>\n",
       "      <td>0.884671</td>\n",
       "    </tr>\n",
       "  </tbody>\n",
       "</table>\n",
       "</div>"
      ],
      "text/plain": [
       "           Model  AUC Score\n",
       "0            Log   0.858876\n",
       "1           Tree   0.653011\n",
       "2         Forest   0.876505\n",
       "3  GradientBoost   0.888013\n",
       "4       AdaBoost   0.884841\n",
       "5        XGBoost   0.884671"
      ]
     },
     "metadata": {},
     "output_type": "display_data"
    },
    {
     "data": {
      "image/png": "[encoded data removed]",
      "text/plain": [
       "<Figure size 432x288 with 1 Axes>"
      ]
     },
     "metadata": {},
     "output_type": "display_data"
    }
   ],
   "source": [
    "#I think I need to split into train and test first to avoid just giving AUC curves for the training data itself.\n",
    "#%%time\n",
    "classifiers = [\n",
    "    #(\"NaiveBayes\", GaussianNB()),\n",
    "    #(\"svc\", SVC(random_state=0)),   \n",
    "    #(\"per\", Perceptron())        Doesn't work because no .predict_proba\n",
    "    #(\"knn\", KNeighborsClassifier(n_neighbors=3)    Takes too long\n",
    "    (\"Log\", LogisticRegression(C=10, max_iter=1000, random_state=0, solver='sag')),\n",
    "    #(\"ridge\", Ridge(alpha=0.5, max_iter=None, normalize=True, random_state=0, solver='auto', tol=0.001)),\n",
    "    #(\"lasso\", Lasso(alpha=0.001, max_iter=100000,normalize=True, random_state=0, tol=0.0001)),\n",
    "    #(\"sgd\", SGDClassifier(loss='log', random_state=0)),\n",
    "    \n",
    "    (\"Tree\", DecisionTreeClassifier(max_depth=8, random_state=0)),\n",
    "    (\"Forest\", RandomForestClassifier(n_estimators=1000, max_features=4, max_depth=100, min_samples_split=20, min_samples_leaf=10, bootstrap=True, random_state=0)),\n",
    "    (\"GradientBoost\", GradientBoostingClassifier(n_estimators=600, max_depth=1, learning_rate=1, random_state=0)),\n",
    "    (\"AdaBoost\", AdaBoostClassifier(n_estimators=350, learning_rate=1, random_state=0)), \n",
    "    (\"XGBoost\", xgb.XGBClassifier(objective=\"binary:logistic\", n_estimators = 500, random_state=42))\n",
    "]\n",
    "\n",
    "modelNameList = []\n",
    "aucList = []\n",
    "cvMeanList = []\n",
    "cvSTDList = []\n",
    "     \n",
    "for name, clf in classifiers:\n",
    "    modelNameList.append(name)\n",
    "     \n",
    "    fitted = clf.fit(X_train, y_train)\n",
    "    fpr, tpr, thr = roc_curve(y_test, fitted.predict_proba(X_test)[:,1])\n",
    "    aucList.append(auc(fpr, tpr))\n",
    "    \n",
    "    plt.plot(fpr, tpr, label=name)\n",
    "    \n",
    "    #rng = np.random.RandomState(42)\n",
    "    #cvScores = cross_val_score(clf, X_train, y_train, scoring='roc_auc', cv=4, n_jobs = -1) \n",
    "    #cvMean = cvScores.mean()\n",
    "    #cvMeanList.append(cvMean)\n",
    "    #cvSTD = cvScores.std()                           \n",
    "    #cvSTDList.append(cvSTD)\n",
    "     \n",
    "plt.legend(loc=\"best\")\n",
    "plt.xlabel('False Positive Rate')\n",
    "plt.ylabel('True Positive Rate')\n",
    "plt.title('Receiver Operating Characteristic Plot')\n",
    "   \n",
    "ModelResultsSummary = pd.DataFrame()\n",
    "ModelResultsSummary['Model'] = modelNameList\n",
    "ModelResultsSummary['AUC Score'] = aucList\n",
    "#ModelResultsSummary['AUC Score_Cross Validation'] = cvMeanList\n",
    "#ModelResultsSummary['AUC STD_Cross Validation'] = cvSTDList\n",
    "#ModelResultsSummary.sort_values(by='AUC Score_Cross Validation', ascending=False).reset_index(drop=True)\n",
    "display(ModelResultsSummary)\n",
    "#Code from here helped: https://scikit-learn.org/stable/auto_examples/linear_model/plot_sgd_comparison.html"
   ]
  }
 ],
 "metadata": {
  "kernelspec": {
   "display_name": "Python 3",
   "language": "python",
   "name": "python3"
  },
  "language_info": {
   "codemirror_mode": {
    "name": "ipython",
    "version": 3
   },
   "file_extension": ".py",
   "mimetype": "text/x-python",
   "name": "python",
   "nbconvert_exporter": "python",
   "pygments_lexer": "ipython3",
   "version": "3.6.5"
  }
 },
 "nbformat": 4,
 "nbformat_minor": 2
}
